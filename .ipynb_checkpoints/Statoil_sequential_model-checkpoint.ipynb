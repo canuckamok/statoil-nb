{
 "cells": [
  {
   "cell_type": "markdown",
   "metadata": {},
   "source": [
    "# Sequential model using Keras library\n",
    "\n",
    "Following instructions from here: https://blog.keras.io/building-powerful-image-classification-models-using-very-little-data.html\n",
    "\n",
    "And using code from here: https://gist.github.com/fchollet/f35fbc80e066a49d65f1688a7e99f069\n",
    "\n",
    "The eventual fully connected layers will be based on this: https://www.kaggle.com/devm2024/transfer-learning-with-vgg-16-convnet-lb-0-1850/notebook"
   ]
  },
  {
   "cell_type": "code",
   "execution_count": 1,
   "metadata": {},
   "outputs": [
    {
     "name": "stderr",
     "output_type": "stream",
     "text": [
      "Using Theano backend.\n"
     ]
    }
   ],
   "source": [
    "import numpy as np\n",
    "from keras.preprocessing.image import ImageDataGenerator\n",
    "from keras.models import Sequential\n",
    "from keras.layers import Dropout, Flatten, Dense\n",
    "from keras import applications"
   ]
  },
  {
   "cell_type": "code",
   "execution_count": 5,
   "metadata": {
    "collapsed": true
   },
   "outputs": [],
   "source": [
    "import os.path"
   ]
  },
  {
   "cell_type": "code",
   "execution_count": null,
   "metadata": {
    "collapsed": true
   },
   "outputs": [],
   "source": []
  },
  {
   "cell_type": "code",
   "execution_count": 11,
   "metadata": {
    "collapsed": true
   },
   "outputs": [],
   "source": [
    "# define variables\n",
    "\n",
    "# dimensions of our images.\n",
    "img_width, img_height = 75, 75\n",
    "\n",
    "top_model_weights_path = '/Users/ilanrotenberg/projects/courses/deeplearning1/nbs/data/statoil/results/bottleneck_fc_model.h5'\n",
    "train_data_dir = '/Users/ilanrotenberg/projects/courses/deeplearning1/nbs/data/statoil/train/'\n",
    "validate_data_dir = '/Users/ilanrotenberg/projects/courses/deeplearning1/nbs/data/statoil/validate/'\n",
    "nb_train_samples = sum(os.path.isfile(os.path.join(train_data_dir + 'iceberg/', f)) for f in os.listdir(train_data_dir + 'iceberg/'))\n",
    "nb_train_samples += sum(os.path.isfile(os.path.join(train_data_dir + 'ship/', f)) for f in os.listdir(train_data_dir + 'ship/'))\n",
    "nb_validate_samples = sum(os.path.isfile(os.path.join(validate_data_dir + 'iceberg/', f)) for f in os.listdir(validate_data_dir + 'iceberg/'))\n",
    "nb_validate_samples += sum(os.path.isfile(os.path.join(validate_data_dir + 'ship/', f)) for f in os.listdir(validate_data_dir + 'ship/'))\n",
    "epochs = 50\n",
    "batch_size = 16\n",
    "\n"
   ]
  },
  {
   "cell_type": "code",
   "execution_count": 21,
   "metadata": {},
   "outputs": [
    {
     "data": {
      "text/plain": [
       "1122"
      ]
     },
     "execution_count": 21,
     "metadata": {},
     "output_type": "execute_result"
    }
   ],
   "source": [
    "nb_train_samples"
   ]
  },
  {
   "cell_type": "code",
   "execution_count": 25,
   "metadata": {
    "collapsed": true
   },
   "outputs": [],
   "source": [
    "def save_bottleneck_features():\n",
    "    datagen = ImageDataGenerator(rescale=1. / 255)\n",
    "    \n",
    "    #Build the Vgg16 network\n",
    "    model = applications.VGG16(include_top=False, weights='imagenet')\n",
    "    \n",
    "    generator = datagen.flow_from_directory(\n",
    "        train_data_dir,\n",
    "        target_size = (img_width, img_height),\n",
    "        batch_size = batch_size,\n",
    "        class_mode = None,\n",
    "        shuffle = False)\n",
    "    bottleneck_features_train = model.predict_generator(\n",
    "        generator, nb_train_samples // batch_size)\n",
    "    np.save(open('bottleneck_features_train.npy', 'w'), \n",
    "            bottleneck_features_train)\n",
    "    \n",
    "    generator = datagen.flow_from_directory(\n",
    "        validate_data_dir,\n",
    "        target_size = (img_width, img_height),\n",
    "        batch_size = batch_size,\n",
    "        class_mode = None,\n",
    "        shuffle = False)\n",
    "    bottleneck_features_validate = model.predict_generator(\n",
    "        generator, nb_validate_samples // batch_size)\n",
    "    np.save(open('bottleneck_features_validate.npy', 'w'), \n",
    "            bottleneck_features_validate)\n",
    "        \n",
    "        \n",
    "def train_top_model():\n",
    "    train_data = np.load(open('bottleneck_features_train.npy'))\n",
    "    train_labels = np.array(\n",
    "        [0] * (len(train_data) / 2) + [1] * (len(train_data) / 2))\n",
    "        \n",
    "    validation_data = np.load(open('bottleneck_features_validate.npy'))\n",
    "    validation_labels = np.array(\n",
    "        [0] * (len(validation_data) / 2) + [1] * (len(validation_data) / 2))\n",
    "    \n",
    "        \n",
    "    model = Sequential()\n",
    "    model.add(Flatten(input_shape=train_data.shape[1:]))\n",
    "    model.add(Dense(256, activation='relu'))\n",
    "    model.add(Dropout(0.5))\n",
    "    model.add(Dense(1, activation='sigmoid'))\n",
    "        \n",
    "    model.compile(optimizer='rmsprop', loss = 'binary_crossentropy', metrics=['accuracy'])\n",
    "    \n",
    "    model.fit(train_data, train_labels,\n",
    "             epochs = epochs,\n",
    "             batch_size = batch_size,\n",
    "             validation_data = (validation_data, validation_labels))\n",
    "    model.save_weights(top_model_weights_path)"
   ]
  },
  {
   "cell_type": "code",
   "execution_count": 16,
   "metadata": {},
   "outputs": [
    {
     "name": "stdout",
     "output_type": "stream",
     "text": [
      "Downloading data from https://github.com/fchollet/deep-learning-models/releases/download/v0.1/vgg16_weights_tf_dim_ordering_tf_kernels_notop.h5\n",
      "58597376/58889256 [============================>.] - ETA: 0sFound 1122 images belonging to 2 classes.\n",
      "Found 482 images belonging to 2 classes.\n"
     ]
    }
   ],
   "source": [
    "save_bottleneck_features()"
   ]
  },
  {
   "cell_type": "code",
   "execution_count": 27,
   "metadata": {},
   "outputs": [
    {
     "data": {
      "text/plain": [
       "(1120, 2, 2, 512)"
      ]
     },
     "execution_count": 27,
     "metadata": {},
     "output_type": "execute_result"
    }
   ],
   "source": [
    "train_data = np.load(open('bottleneck_features_train.npy'))\n",
    "train_data.shape"
   ]
  },
  {
   "cell_type": "code",
   "execution_count": 26,
   "metadata": {},
   "outputs": [
    {
     "name": "stdout",
     "output_type": "stream",
     "text": [
      "Train on 1120 samples, validate on 480 samples\n",
      "Epoch 1/50\n",
      "1120/1120 [==============================] - 0s - loss: 0.6249 - acc: 0.6875 - val_loss: 0.5689 - val_acc: 0.6979\n",
      "Epoch 2/50\n",
      "1120/1120 [==============================] - 0s - loss: 0.5173 - acc: 0.7420 - val_loss: 0.5250 - val_acc: 0.7292\n",
      "Epoch 3/50\n",
      "1120/1120 [==============================] - 0s - loss: 0.5001 - acc: 0.7384 - val_loss: 0.4792 - val_acc: 0.7625\n",
      "Epoch 4/50\n",
      "1120/1120 [==============================] - 0s - loss: 0.4881 - acc: 0.7562 - val_loss: 0.4912 - val_acc: 0.7667\n",
      "Epoch 5/50\n",
      "1120/1120 [==============================] - 0s - loss: 0.4657 - acc: 0.7687 - val_loss: 0.5256 - val_acc: 0.7417\n",
      "Epoch 6/50\n",
      "1120/1120 [==============================] - 0s - loss: 0.4581 - acc: 0.7670 - val_loss: 0.4811 - val_acc: 0.7688\n",
      "Epoch 7/50\n",
      "1120/1120 [==============================] - 0s - loss: 0.4548 - acc: 0.7857 - val_loss: 0.4935 - val_acc: 0.7646\n",
      "Epoch 8/50\n",
      "1120/1120 [==============================] - 0s - loss: 0.4448 - acc: 0.7696 - val_loss: 0.4820 - val_acc: 0.7729\n",
      "Epoch 9/50\n",
      "1120/1120 [==============================] - 0s - loss: 0.4402 - acc: 0.7821 - val_loss: 0.4922 - val_acc: 0.7625\n",
      "Epoch 10/50\n",
      "1120/1120 [==============================] - 0s - loss: 0.4335 - acc: 0.7866 - val_loss: 0.4880 - val_acc: 0.7646\n",
      "Epoch 11/50\n",
      "1120/1120 [==============================] - 0s - loss: 0.4422 - acc: 0.7893 - val_loss: 0.5043 - val_acc: 0.7417\n",
      "Epoch 12/50\n",
      "1120/1120 [==============================] - 0s - loss: 0.4345 - acc: 0.7848 - val_loss: 0.5395 - val_acc: 0.7500\n",
      "Epoch 13/50\n",
      "1120/1120 [==============================] - 0s - loss: 0.4211 - acc: 0.7848 - val_loss: 0.4919 - val_acc: 0.7646\n",
      "Epoch 14/50\n",
      "1120/1120 [==============================] - 1s - loss: 0.4301 - acc: 0.7893 - val_loss: 0.4747 - val_acc: 0.7729\n",
      "Epoch 15/50\n",
      "1120/1120 [==============================] - 1s - loss: 0.4321 - acc: 0.7982 - val_loss: 0.4865 - val_acc: 0.7896\n",
      "Epoch 16/50\n",
      "1120/1120 [==============================] - 1s - loss: 0.4182 - acc: 0.8125 - val_loss: 0.5058 - val_acc: 0.7896\n",
      "Epoch 17/50\n",
      "1120/1120 [==============================] - 0s - loss: 0.4174 - acc: 0.8089 - val_loss: 0.4790 - val_acc: 0.7812\n",
      "Epoch 18/50\n",
      "1120/1120 [==============================] - 1s - loss: 0.4180 - acc: 0.8045 - val_loss: 0.4987 - val_acc: 0.7521\n",
      "Epoch 19/50\n",
      "1120/1120 [==============================] - 1s - loss: 0.4163 - acc: 0.7929 - val_loss: 0.5607 - val_acc: 0.7396\n",
      "Epoch 20/50\n",
      "1120/1120 [==============================] - 1s - loss: 0.4052 - acc: 0.8116 - val_loss: 0.5192 - val_acc: 0.7625\n",
      "Epoch 21/50\n",
      "1120/1120 [==============================] - 1s - loss: 0.4086 - acc: 0.8018 - val_loss: 0.4823 - val_acc: 0.7812\n",
      "Epoch 22/50\n",
      "1120/1120 [==============================] - 1s - loss: 0.3943 - acc: 0.8152 - val_loss: 0.5073 - val_acc: 0.7708\n",
      "Epoch 23/50\n",
      "1120/1120 [==============================] - 1s - loss: 0.3828 - acc: 0.8116 - val_loss: 0.5044 - val_acc: 0.7521\n",
      "Epoch 24/50\n",
      "1120/1120 [==============================] - 1s - loss: 0.4020 - acc: 0.8125 - val_loss: 0.5039 - val_acc: 0.7542\n",
      "Epoch 25/50\n",
      "1120/1120 [==============================] - 1s - loss: 0.3942 - acc: 0.7982 - val_loss: 0.5158 - val_acc: 0.7688\n",
      "Epoch 26/50\n",
      "1120/1120 [==============================] - 1s - loss: 0.3835 - acc: 0.8179 - val_loss: 0.4858 - val_acc: 0.7688\n",
      "Epoch 27/50\n",
      "1120/1120 [==============================] - 1s - loss: 0.3889 - acc: 0.8152 - val_loss: 0.5665 - val_acc: 0.7375\n",
      "Epoch 28/50\n",
      "1120/1120 [==============================] - 1s - loss: 0.3695 - acc: 0.8375 - val_loss: 0.5347 - val_acc: 0.7833\n",
      "Epoch 29/50\n",
      "1120/1120 [==============================] - 1s - loss: 0.3939 - acc: 0.8071 - val_loss: 0.4861 - val_acc: 0.7833\n",
      "Epoch 30/50\n",
      "1120/1120 [==============================] - 1s - loss: 0.3825 - acc: 0.8071 - val_loss: 0.5695 - val_acc: 0.7479\n",
      "Epoch 31/50\n",
      "1120/1120 [==============================] - 1s - loss: 0.3683 - acc: 0.8232 - val_loss: 0.4949 - val_acc: 0.7854\n",
      "Epoch 32/50\n",
      "1120/1120 [==============================] - 1s - loss: 0.3730 - acc: 0.8125 - val_loss: 0.5093 - val_acc: 0.7854\n",
      "Epoch 33/50\n",
      "1120/1120 [==============================] - 1s - loss: 0.3703 - acc: 0.8259 - val_loss: 0.4903 - val_acc: 0.7771\n",
      "Epoch 34/50\n",
      "1120/1120 [==============================] - 1s - loss: 0.3769 - acc: 0.8179 - val_loss: 0.5260 - val_acc: 0.7708\n",
      "Epoch 35/50\n",
      "1120/1120 [==============================] - 1s - loss: 0.3670 - acc: 0.8339 - val_loss: 0.5525 - val_acc: 0.7688\n",
      "Epoch 36/50\n",
      "1120/1120 [==============================] - 1s - loss: 0.3627 - acc: 0.8304 - val_loss: 0.5936 - val_acc: 0.7271\n",
      "Epoch 37/50\n",
      "1120/1120 [==============================] - 1s - loss: 0.3746 - acc: 0.8268 - val_loss: 0.6065 - val_acc: 0.7479\n",
      "Epoch 38/50\n",
      "1120/1120 [==============================] - 1s - loss: 0.3619 - acc: 0.8286 - val_loss: 0.5388 - val_acc: 0.7667\n",
      "Epoch 39/50\n",
      "1120/1120 [==============================] - 1s - loss: 0.3642 - acc: 0.8268 - val_loss: 0.5722 - val_acc: 0.7646\n",
      "Epoch 40/50\n",
      "1120/1120 [==============================] - 1s - loss: 0.3542 - acc: 0.8375 - val_loss: 0.5302 - val_acc: 0.7604\n",
      "Epoch 41/50\n",
      "1120/1120 [==============================] - 1s - loss: 0.3683 - acc: 0.8259 - val_loss: 0.5254 - val_acc: 0.7750\n",
      "Epoch 42/50\n",
      "1120/1120 [==============================] - 1s - loss: 0.3472 - acc: 0.8518 - val_loss: 0.5364 - val_acc: 0.7750\n",
      "Epoch 43/50\n",
      "1120/1120 [==============================] - 1s - loss: 0.3553 - acc: 0.8375 - val_loss: 0.5527 - val_acc: 0.7875\n",
      "Epoch 44/50\n",
      "1120/1120 [==============================] - 1s - loss: 0.3582 - acc: 0.8393 - val_loss: 0.5440 - val_acc: 0.7750\n",
      "Epoch 45/50\n",
      "1120/1120 [==============================] - 1s - loss: 0.3469 - acc: 0.8393 - val_loss: 0.5888 - val_acc: 0.7854\n",
      "Epoch 46/50\n",
      "1120/1120 [==============================] - 1s - loss: 0.3484 - acc: 0.8429 - val_loss: 0.5574 - val_acc: 0.7688\n",
      "Epoch 47/50\n",
      "1120/1120 [==============================] - 1s - loss: 0.3506 - acc: 0.8429 - val_loss: 0.5993 - val_acc: 0.7646\n",
      "Epoch 48/50\n",
      "1120/1120 [==============================] - 1s - loss: 0.3511 - acc: 0.8304 - val_loss: 0.5317 - val_acc: 0.7583\n",
      "Epoch 49/50\n",
      "1120/1120 [==============================] - 1s - loss: 0.3334 - acc: 0.8464 - val_loss: 0.5616 - val_acc: 0.7583\n",
      "Epoch 50/50\n",
      "1120/1120 [==============================] - 1s - loss: 0.3328 - acc: 0.8473 - val_loss: 0.5389 - val_acc: 0.7688\n"
     ]
    }
   ],
   "source": [
    "train_top_model()"
   ]
  },
  {
   "cell_type": "code",
   "execution_count": 28,
   "metadata": {
    "collapsed": true
   },
   "outputs": [],
   "source": [
    "import pandas as pd\n"
   ]
  },
  {
   "cell_type": "code",
   "execution_count": 32,
   "metadata": {},
   "outputs": [
    {
     "name": "stdout",
     "output_type": "stream",
     "text": [
      "[Errno 2] No such file or directory: '/Users/ilanrotenberg/projects/courses/deeplearning1/nbs/data/statoil/train/../test.json - test.json'\n",
      "/Users/ilanrotenberg/projects/courses/deeplearning1/nbs/statoil-nb\n"
     ]
    }
   ],
   "source": [
    "test_path = train_data_dir + '../test.json'\n"
   ]
  },
  {
   "cell_type": "code",
   "execution_count": 34,
   "metadata": {
    "collapsed": true
   },
   "outputs": [],
   "source": [
    "test_data = pd.read_json(test_path)"
   ]
  },
  {
   "cell_type": "code",
   "execution_count": 35,
   "metadata": {},
   "outputs": [
    {
     "data": {
      "text/plain": [
       "(8424, 4)"
      ]
     },
     "execution_count": 35,
     "metadata": {},
     "output_type": "execute_result"
    }
   ],
   "source": [
    "test_data.shape"
   ]
  },
  {
   "cell_type": "code",
   "execution_count": 36,
   "metadata": {},
   "outputs": [
    {
     "data": {
      "text/html": [
       "<div>\n",
       "<style>\n",
       "    .dataframe thead tr:only-child th {\n",
       "        text-align: right;\n",
       "    }\n",
       "\n",
       "    .dataframe thead th {\n",
       "        text-align: left;\n",
       "    }\n",
       "\n",
       "    .dataframe tbody tr th {\n",
       "        vertical-align: top;\n",
       "    }\n",
       "</style>\n",
       "<table border=\"1\" class=\"dataframe\">\n",
       "  <thead>\n",
       "    <tr style=\"text-align: right;\">\n",
       "      <th></th>\n",
       "      <th>band_1</th>\n",
       "      <th>band_2</th>\n",
       "      <th>id</th>\n",
       "      <th>inc_angle</th>\n",
       "    </tr>\n",
       "  </thead>\n",
       "  <tbody>\n",
       "    <tr>\n",
       "      <th>0</th>\n",
       "      <td>[-15.863251, -15.201077, -17.887735, -19.17248...</td>\n",
       "      <td>[-21.629612, -21.142353, -23.908337, -28.34524...</td>\n",
       "      <td>5941774d</td>\n",
       "      <td>34.966400</td>\n",
       "    </tr>\n",
       "    <tr>\n",
       "      <th>1</th>\n",
       "      <td>[-26.0589694977, -26.0589694977, -26.058969497...</td>\n",
       "      <td>[-25.7542076111, -25.7542076111, -25.754207611...</td>\n",
       "      <td>4023181e</td>\n",
       "      <td>32.615072</td>\n",
       "    </tr>\n",
       "    <tr>\n",
       "      <th>2</th>\n",
       "      <td>[-14.1410999298, -15.0642414093, -17.375520706...</td>\n",
       "      <td>[-14.745639801, -14.5904102325, -14.3626976013...</td>\n",
       "      <td>b20200e4</td>\n",
       "      <td>37.505433</td>\n",
       "    </tr>\n",
       "    <tr>\n",
       "      <th>3</th>\n",
       "      <td>[-12.167478, -13.706167, -16.54837, -13.572674...</td>\n",
       "      <td>[-24.32222, -26.375538, -24.096739, -23.8769, ...</td>\n",
       "      <td>e7f018bb</td>\n",
       "      <td>34.473900</td>\n",
       "    </tr>\n",
       "    <tr>\n",
       "      <th>4</th>\n",
       "      <td>[-23.3745937347, -26.0271816254, -28.121963501...</td>\n",
       "      <td>[-25.7223434448, -27.0115776062, -23.149162292...</td>\n",
       "      <td>4371c8c3</td>\n",
       "      <td>43.918874</td>\n",
       "    </tr>\n",
       "  </tbody>\n",
       "</table>\n",
       "</div>"
      ],
      "text/plain": [
       "                                              band_1  \\\n",
       "0  [-15.863251, -15.201077, -17.887735, -19.17248...   \n",
       "1  [-26.0589694977, -26.0589694977, -26.058969497...   \n",
       "2  [-14.1410999298, -15.0642414093, -17.375520706...   \n",
       "3  [-12.167478, -13.706167, -16.54837, -13.572674...   \n",
       "4  [-23.3745937347, -26.0271816254, -28.121963501...   \n",
       "\n",
       "                                              band_2        id  inc_angle  \n",
       "0  [-21.629612, -21.142353, -23.908337, -28.34524...  5941774d  34.966400  \n",
       "1  [-25.7542076111, -25.7542076111, -25.754207611...  4023181e  32.615072  \n",
       "2  [-14.745639801, -14.5904102325, -14.3626976013...  b20200e4  37.505433  \n",
       "3  [-24.32222, -26.375538, -24.096739, -23.8769, ...  e7f018bb  34.473900  \n",
       "4  [-25.7223434448, -27.0115776062, -23.149162292...  4371c8c3  43.918874  "
      ]
     },
     "execution_count": 36,
     "metadata": {},
     "output_type": "execute_result"
    }
   ],
   "source": [
    "test_data[:5]"
   ]
  },
  {
   "cell_type": "code",
   "execution_count": 37,
   "metadata": {
    "collapsed": true
   },
   "outputs": [],
   "source": [
    "X_band_1 = np.array([np.array(band).astype('float32').reshape(img_width,img_height) for band in test_data.band_1])"
   ]
  },
  {
   "cell_type": "code",
   "execution_count": 38,
   "metadata": {
    "collapsed": true
   },
   "outputs": [],
   "source": [
    "X_band_2 = np.array([np.array(band).astype('float32').reshape(img_width,img_height) for band in test_data.band_2])\n",
    "X_band_3 = (X_band_1 + X_band_2) / 2\n",
    "X_band = np.concatenate([X_band_1[:,:,:,np.newaxis],\n",
    "                        X_band_2[:,:,:,np.newaxis],\n",
    "                        X_band_3[:,:,:,np.newaxis]],axis=-1)"
   ]
  },
  {
   "cell_type": "code",
   "execution_count": 39,
   "metadata": {},
   "outputs": [
    {
     "ename": "NameError",
     "evalue": "name 'model' is not defined",
     "output_type": "error",
     "traceback": [
      "\u001b[0;31m---------------------------------------------------------------------------\u001b[0m",
      "\u001b[0;31mNameError\u001b[0m                                 Traceback (most recent call last)",
      "\u001b[0;32m<ipython-input-39-339e228774e4>\u001b[0m in \u001b[0;36m<module>\u001b[0;34m()\u001b[0m\n\u001b[0;32m----> 1\u001b[0;31m \u001b[0mpreds\u001b[0m \u001b[0;34m=\u001b[0m \u001b[0mmodel\u001b[0m\u001b[0;34m.\u001b[0m\u001b[0mpredict\u001b[0m\u001b[0;34m(\u001b[0m\u001b[0mX_band\u001b[0m\u001b[0;34m)\u001b[0m\u001b[0;34m\u001b[0m\u001b[0m\n\u001b[0m",
      "\u001b[0;31mNameError\u001b[0m: name 'model' is not defined"
     ]
    }
   ],
   "source": [
    "preds = model.predict(X_band)"
   ]
  },
  {
   "cell_type": "markdown",
   "metadata": {
    "collapsed": true
   },
   "source": [
    "# Create a new model\n",
    "\n",
    "create a new model that does not rely on Imagenet database (Since data is not similar to imagenet)\n",
    "\n",
    "#### Steps:\n",
    "1. import data\n",
    "2. separate training and validation sets\n",
    "3. get data and labels for both sets\n",
    "4. create simple model to start understanding data\n",
    "5. TBD"
   ]
  },
  {
   "cell_type": "code",
   "execution_count": 48,
   "metadata": {},
   "outputs": [],
   "source": [
    "import numpy as np\n",
    "from keras.preprocessing.image import ImageDataGenerator\n",
    "from keras.models import Sequential\n",
    "from keras.layers import Dropout, Flatten, Dense, Lambda\n",
    "from keras import applications\n",
    "import os.path\n",
    "import pandas as pd\n",
    "import random\n",
    "from keras.utils import to_categorical"
   ]
  },
  {
   "cell_type": "code",
   "execution_count": 3,
   "metadata": {
    "collapsed": true
   },
   "outputs": [],
   "source": [
    "# define variables\n",
    "\n",
    "# dimensions of our images.\n",
    "img_width, img_height = 75, 75\n",
    "\n",
    "top_model_weights_path = '/Users/ilanrotenberg/projects/courses/deeplearning1/nbs/data/statoil/results/bottleneck_fc_model.h5'\n",
    "train_data_dir = '/Users/ilanrotenberg/projects/courses/deeplearning1/nbs/data/statoil/train/'\n",
    "validate_data_dir = '/Users/ilanrotenberg/projects/courses/deeplearning1/nbs/data/statoil/validate/'\n",
    "nb_train_samples = sum(os.path.isfile(os.path.join(train_data_dir + 'iceberg/', f)) for f in os.listdir(train_data_dir + 'iceberg/'))\n",
    "nb_train_samples += sum(os.path.isfile(os.path.join(train_data_dir + 'ship/', f)) for f in os.listdir(train_data_dir + 'ship/'))\n",
    "nb_validate_samples = sum(os.path.isfile(os.path.join(validate_data_dir + 'iceberg/', f)) for f in os.listdir(validate_data_dir + 'iceberg/'))\n",
    "nb_validate_samples += sum(os.path.isfile(os.path.join(validate_data_dir + 'ship/', f)) for f in os.listdir(validate_data_dir + 'ship/'))\n",
    "epochs = 50\n",
    "batch_size = 16"
   ]
  },
  {
   "cell_type": "code",
   "execution_count": 4,
   "metadata": {
    "collapsed": true
   },
   "outputs": [],
   "source": [
    "train_path = train_data_dir + '../train.json'\n",
    "test_path = train_data_dir + '../test.json'\n",
    "train_batch = pd.read_json(train_path)\n",
    "test_batch = pd.read_json(test_path)"
   ]
  },
  {
   "cell_type": "code",
   "execution_count": 5,
   "metadata": {},
   "outputs": [
    {
     "data": {
      "text/html": [
       "<div>\n",
       "<style>\n",
       "    .dataframe thead tr:only-child th {\n",
       "        text-align: right;\n",
       "    }\n",
       "\n",
       "    .dataframe thead th {\n",
       "        text-align: left;\n",
       "    }\n",
       "\n",
       "    .dataframe tbody tr th {\n",
       "        vertical-align: top;\n",
       "    }\n",
       "</style>\n",
       "<table border=\"1\" class=\"dataframe\">\n",
       "  <thead>\n",
       "    <tr style=\"text-align: right;\">\n",
       "      <th></th>\n",
       "      <th>band_1</th>\n",
       "      <th>band_2</th>\n",
       "      <th>id</th>\n",
       "      <th>inc_angle</th>\n",
       "      <th>is_iceberg</th>\n",
       "    </tr>\n",
       "  </thead>\n",
       "  <tbody>\n",
       "    <tr>\n",
       "      <th>0</th>\n",
       "      <td>[-27.878361, -27.15416, -28.668615, -29.537971...</td>\n",
       "      <td>[-27.154118, -29.537888, -31.0306, -32.190483,...</td>\n",
       "      <td>dfd5f913</td>\n",
       "      <td>43.9239</td>\n",
       "      <td>0</td>\n",
       "    </tr>\n",
       "    <tr>\n",
       "      <th>1</th>\n",
       "      <td>[-12.242375, -14.920305, -14.920363, -12.66633...</td>\n",
       "      <td>[-31.506321, -27.984554, -26.645678, -23.76760...</td>\n",
       "      <td>e25388fd</td>\n",
       "      <td>38.1562</td>\n",
       "      <td>0</td>\n",
       "    </tr>\n",
       "    <tr>\n",
       "      <th>2</th>\n",
       "      <td>[-24.603676, -24.603714, -24.871029, -23.15277...</td>\n",
       "      <td>[-24.870956, -24.092632, -20.653963, -19.41104...</td>\n",
       "      <td>58b2aaa0</td>\n",
       "      <td>45.2859</td>\n",
       "      <td>1</td>\n",
       "    </tr>\n",
       "    <tr>\n",
       "      <th>3</th>\n",
       "      <td>[-22.454607, -23.082819, -23.998013, -23.99805...</td>\n",
       "      <td>[-27.889421, -27.519794, -27.165262, -29.10350...</td>\n",
       "      <td>4cfc3a18</td>\n",
       "      <td>43.8306</td>\n",
       "      <td>0</td>\n",
       "    </tr>\n",
       "    <tr>\n",
       "      <th>4</th>\n",
       "      <td>[-26.006956, -23.164886, -23.164886, -26.89116...</td>\n",
       "      <td>[-27.206915, -30.259186, -30.259186, -23.16495...</td>\n",
       "      <td>271f93f4</td>\n",
       "      <td>35.6256</td>\n",
       "      <td>0</td>\n",
       "    </tr>\n",
       "  </tbody>\n",
       "</table>\n",
       "</div>"
      ],
      "text/plain": [
       "                                              band_1  \\\n",
       "0  [-27.878361, -27.15416, -28.668615, -29.537971...   \n",
       "1  [-12.242375, -14.920305, -14.920363, -12.66633...   \n",
       "2  [-24.603676, -24.603714, -24.871029, -23.15277...   \n",
       "3  [-22.454607, -23.082819, -23.998013, -23.99805...   \n",
       "4  [-26.006956, -23.164886, -23.164886, -26.89116...   \n",
       "\n",
       "                                              band_2        id inc_angle  \\\n",
       "0  [-27.154118, -29.537888, -31.0306, -32.190483,...  dfd5f913   43.9239   \n",
       "1  [-31.506321, -27.984554, -26.645678, -23.76760...  e25388fd   38.1562   \n",
       "2  [-24.870956, -24.092632, -20.653963, -19.41104...  58b2aaa0   45.2859   \n",
       "3  [-27.889421, -27.519794, -27.165262, -29.10350...  4cfc3a18   43.8306   \n",
       "4  [-27.206915, -30.259186, -30.259186, -23.16495...  271f93f4   35.6256   \n",
       "\n",
       "   is_iceberg  \n",
       "0           0  \n",
       "1           0  \n",
       "2           1  \n",
       "3           0  \n",
       "4           0  "
      ]
     },
     "execution_count": 5,
     "metadata": {},
     "output_type": "execute_result"
    }
   ],
   "source": [
    "train_batch[:5]"
   ]
  },
  {
   "cell_type": "code",
   "execution_count": 6,
   "metadata": {
    "collapsed": true
   },
   "outputs": [],
   "source": [
    "validate_batch = train_batch.sample(frac=0.3)"
   ]
  },
  {
   "cell_type": "code",
   "execution_count": 7,
   "metadata": {},
   "outputs": [
    {
     "data": {
      "text/html": [
       "<div>\n",
       "<style>\n",
       "    .dataframe thead tr:only-child th {\n",
       "        text-align: right;\n",
       "    }\n",
       "\n",
       "    .dataframe thead th {\n",
       "        text-align: left;\n",
       "    }\n",
       "\n",
       "    .dataframe tbody tr th {\n",
       "        vertical-align: top;\n",
       "    }\n",
       "</style>\n",
       "<table border=\"1\" class=\"dataframe\">\n",
       "  <thead>\n",
       "    <tr style=\"text-align: right;\">\n",
       "      <th></th>\n",
       "      <th>band_1</th>\n",
       "      <th>band_2</th>\n",
       "      <th>id</th>\n",
       "      <th>inc_angle</th>\n",
       "      <th>is_iceberg</th>\n",
       "    </tr>\n",
       "  </thead>\n",
       "  <tbody>\n",
       "    <tr>\n",
       "      <th>747</th>\n",
       "      <td>[-25.409029, -22.566938, -19.967796, -25.40916...</td>\n",
       "      <td>[-31.714437, -31.714485, -28.791969, -28.79201...</td>\n",
       "      <td>efc00a93</td>\n",
       "      <td>42.4438</td>\n",
       "      <td>0</td>\n",
       "    </tr>\n",
       "    <tr>\n",
       "      <th>993</th>\n",
       "      <td>[-27.015923, -26.10083, -23.38764, -21.157799,...</td>\n",
       "      <td>[-26.700037, -28.039034, -25.013737, -26.70015...</td>\n",
       "      <td>8b2054f8</td>\n",
       "      <td>38.0144</td>\n",
       "      <td>0</td>\n",
       "    </tr>\n",
       "    <tr>\n",
       "      <th>521</th>\n",
       "      <td>[-24.811668, -25.078993, -18.923769, -20.86201...</td>\n",
       "      <td>[-28.333494, -31.099594, -27.223236, -25.93412...</td>\n",
       "      <td>07ecb0dd</td>\n",
       "      <td>43.2611</td>\n",
       "      <td>1</td>\n",
       "    </tr>\n",
       "    <tr>\n",
       "      <th>484</th>\n",
       "      <td>[-16.920742, -16.920742, -18.400295, -15.74773...</td>\n",
       "      <td>[-23.706635, -23.706635, -28.453804, -25.19920...</td>\n",
       "      <td>35a8236c</td>\n",
       "      <td>41.1346</td>\n",
       "      <td>0</td>\n",
       "    </tr>\n",
       "    <tr>\n",
       "      <th>912</th>\n",
       "      <td>[-12.625193, -12.275377, -12.049828, -12.92800...</td>\n",
       "      <td>[-20.64369, -20.64369, -20.349295, -21.42687, ...</td>\n",
       "      <td>000d71b1</td>\n",
       "      <td>34.8374</td>\n",
       "      <td>0</td>\n",
       "    </tr>\n",
       "  </tbody>\n",
       "</table>\n",
       "</div>"
      ],
      "text/plain": [
       "                                                band_1  \\\n",
       "747  [-25.409029, -22.566938, -19.967796, -25.40916...   \n",
       "993  [-27.015923, -26.10083, -23.38764, -21.157799,...   \n",
       "521  [-24.811668, -25.078993, -18.923769, -20.86201...   \n",
       "484  [-16.920742, -16.920742, -18.400295, -15.74773...   \n",
       "912  [-12.625193, -12.275377, -12.049828, -12.92800...   \n",
       "\n",
       "                                                band_2        id inc_angle  \\\n",
       "747  [-31.714437, -31.714485, -28.791969, -28.79201...  efc00a93   42.4438   \n",
       "993  [-26.700037, -28.039034, -25.013737, -26.70015...  8b2054f8   38.0144   \n",
       "521  [-28.333494, -31.099594, -27.223236, -25.93412...  07ecb0dd   43.2611   \n",
       "484  [-23.706635, -23.706635, -28.453804, -25.19920...  35a8236c   41.1346   \n",
       "912  [-20.64369, -20.64369, -20.349295, -21.42687, ...  000d71b1   34.8374   \n",
       "\n",
       "     is_iceberg  \n",
       "747           0  \n",
       "993           0  \n",
       "521           1  \n",
       "484           0  \n",
       "912           0  "
      ]
     },
     "execution_count": 7,
     "metadata": {},
     "output_type": "execute_result"
    }
   ],
   "source": [
    "validate_batch[:5]"
   ]
  },
  {
   "cell_type": "code",
   "execution_count": 18,
   "metadata": {},
   "outputs": [
    {
     "data": {
      "text/html": [
       "<div>\n",
       "<style>\n",
       "    .dataframe thead tr:only-child th {\n",
       "        text-align: right;\n",
       "    }\n",
       "\n",
       "    .dataframe thead th {\n",
       "        text-align: left;\n",
       "    }\n",
       "\n",
       "    .dataframe tbody tr th {\n",
       "        vertical-align: top;\n",
       "    }\n",
       "</style>\n",
       "<table border=\"1\" class=\"dataframe\">\n",
       "  <thead>\n",
       "    <tr style=\"text-align: right;\">\n",
       "      <th></th>\n",
       "      <th>band_1</th>\n",
       "      <th>band_2</th>\n",
       "      <th>id</th>\n",
       "      <th>inc_angle</th>\n",
       "      <th>is_iceberg</th>\n",
       "    </tr>\n",
       "  </thead>\n",
       "  <tbody>\n",
       "    <tr>\n",
       "      <th>0</th>\n",
       "      <td>[-27.878361, -27.15416, -28.668615, -29.537971...</td>\n",
       "      <td>[-27.154118, -29.537888, -31.0306, -32.190483,...</td>\n",
       "      <td>dfd5f913</td>\n",
       "      <td>43.9239</td>\n",
       "      <td>0</td>\n",
       "    </tr>\n",
       "    <tr>\n",
       "      <th>1</th>\n",
       "      <td>[-12.242375, -14.920305, -14.920363, -12.66633...</td>\n",
       "      <td>[-31.506321, -27.984554, -26.645678, -23.76760...</td>\n",
       "      <td>e25388fd</td>\n",
       "      <td>38.1562</td>\n",
       "      <td>0</td>\n",
       "    </tr>\n",
       "    <tr>\n",
       "      <th>3</th>\n",
       "      <td>[-22.454607, -23.082819, -23.998013, -23.99805...</td>\n",
       "      <td>[-27.889421, -27.519794, -27.165262, -29.10350...</td>\n",
       "      <td>4cfc3a18</td>\n",
       "      <td>43.8306</td>\n",
       "      <td>0</td>\n",
       "    </tr>\n",
       "    <tr>\n",
       "      <th>4</th>\n",
       "      <td>[-26.006956, -23.164886, -23.164886, -26.89116...</td>\n",
       "      <td>[-27.206915, -30.259186, -30.259186, -23.16495...</td>\n",
       "      <td>271f93f4</td>\n",
       "      <td>35.6256</td>\n",
       "      <td>0</td>\n",
       "    </tr>\n",
       "    <tr>\n",
       "      <th>5</th>\n",
       "      <td>[-20.769371, -20.769434, -25.906025, -25.90602...</td>\n",
       "      <td>[-29.288746, -29.712593, -28.884804, -28.88480...</td>\n",
       "      <td>b51d18b5</td>\n",
       "      <td>36.9034</td>\n",
       "      <td>1</td>\n",
       "    </tr>\n",
       "  </tbody>\n",
       "</table>\n",
       "</div>"
      ],
      "text/plain": [
       "                                              band_1  \\\n",
       "0  [-27.878361, -27.15416, -28.668615, -29.537971...   \n",
       "1  [-12.242375, -14.920305, -14.920363, -12.66633...   \n",
       "3  [-22.454607, -23.082819, -23.998013, -23.99805...   \n",
       "4  [-26.006956, -23.164886, -23.164886, -26.89116...   \n",
       "5  [-20.769371, -20.769434, -25.906025, -25.90602...   \n",
       "\n",
       "                                              band_2        id inc_angle  \\\n",
       "0  [-27.154118, -29.537888, -31.0306, -32.190483,...  dfd5f913   43.9239   \n",
       "1  [-31.506321, -27.984554, -26.645678, -23.76760...  e25388fd   38.1562   \n",
       "3  [-27.889421, -27.519794, -27.165262, -29.10350...  4cfc3a18   43.8306   \n",
       "4  [-27.206915, -30.259186, -30.259186, -23.16495...  271f93f4   35.6256   \n",
       "5  [-29.288746, -29.712593, -28.884804, -28.88480...  b51d18b5   36.9034   \n",
       "\n",
       "   is_iceberg  \n",
       "0           0  \n",
       "1           0  \n",
       "3           0  \n",
       "4           0  \n",
       "5           1  "
      ]
     },
     "execution_count": 18,
     "metadata": {},
     "output_type": "execute_result"
    }
   ],
   "source": [
    "new_train_batch = train_batch[~train_batch.index.isin(validate_batch.index)]\n",
    "new_train_batch[:5]"
   ]
  },
  {
   "cell_type": "code",
   "execution_count": 21,
   "metadata": {
    "collapsed": true
   },
   "outputs": [],
   "source": [
    "validate_batch.to_json(path_or_buf = train_data_dir+'../validate.json')\n",
    "new_train_batch.to_json(path_or_buf = train_data_dir+'../train_new.json')"
   ]
  },
  {
   "cell_type": "code",
   "execution_count": 14,
   "metadata": {
    "collapsed": true
   },
   "outputs": [],
   "source": [
    "train_path = train_data_dir+'../train_new.json'\n",
    "validate_path = train_data_dir+'../validate.json'"
   ]
  },
  {
   "cell_type": "code",
   "execution_count": 19,
   "metadata": {},
   "outputs": [],
   "source": [
    "new_train_batch.inc_angle = new_train_batch.inc_angle.apply(lambda x:np.nan if x =='na' else x)"
   ]
  },
  {
   "cell_type": "code",
   "execution_count": 15,
   "metadata": {},
   "outputs": [],
   "source": [
    "train_data = pd.read_json(train_path)"
   ]
  },
  {
   "cell_type": "code",
   "execution_count": 16,
   "metadata": {},
   "outputs": [
    {
     "data": {
      "text/html": [
       "<div>\n",
       "<style>\n",
       "    .dataframe thead tr:only-child th {\n",
       "        text-align: right;\n",
       "    }\n",
       "\n",
       "    .dataframe thead th {\n",
       "        text-align: left;\n",
       "    }\n",
       "\n",
       "    .dataframe tbody tr th {\n",
       "        vertical-align: top;\n",
       "    }\n",
       "</style>\n",
       "<table border=\"1\" class=\"dataframe\">\n",
       "  <thead>\n",
       "    <tr style=\"text-align: right;\">\n",
       "      <th></th>\n",
       "      <th>band_1</th>\n",
       "      <th>band_2</th>\n",
       "      <th>id</th>\n",
       "      <th>inc_angle</th>\n",
       "      <th>is_iceberg</th>\n",
       "    </tr>\n",
       "  </thead>\n",
       "  <tbody>\n",
       "    <tr>\n",
       "      <th>0</th>\n",
       "      <td>[-27.878361, -27.15416, -28.668615, -29.537971...</td>\n",
       "      <td>[-27.154118, -29.537888, -31.0306, -32.190483,...</td>\n",
       "      <td>dfd5f913</td>\n",
       "      <td>43.9239</td>\n",
       "      <td>0</td>\n",
       "    </tr>\n",
       "    <tr>\n",
       "      <th>1</th>\n",
       "      <td>[-12.242375, -14.920305, -14.920363, -12.66633...</td>\n",
       "      <td>[-31.506321, -27.984554, -26.645678, -23.76760...</td>\n",
       "      <td>e25388fd</td>\n",
       "      <td>38.1562</td>\n",
       "      <td>0</td>\n",
       "    </tr>\n",
       "    <tr>\n",
       "      <th>10</th>\n",
       "      <td>[-21.397552, -19.753859, -23.426783, -24.65221...</td>\n",
       "      <td>[-26.72291, -27.418192, -27.787899, -25.774536...</td>\n",
       "      <td>3aac67cd</td>\n",
       "      <td>44.624</td>\n",
       "      <td>1</td>\n",
       "    </tr>\n",
       "    <tr>\n",
       "      <th>100</th>\n",
       "      <td>[-20.04884, -19.469616, -20.510244, -19.61095,...</td>\n",
       "      <td>[-29.742329, -26.374287, -25.490265, -25.49031...</td>\n",
       "      <td>66348d03</td>\n",
       "      <td>41.1342</td>\n",
       "      <td>0</td>\n",
       "    </tr>\n",
       "    <tr>\n",
       "      <th>1001</th>\n",
       "      <td>[-22.34741, -22.156555, -25.308764, -24.530453...</td>\n",
       "      <td>[-24.782082, -24.047678, -24.782185, -27.45301...</td>\n",
       "      <td>3062fca8</td>\n",
       "      <td>39.9627</td>\n",
       "      <td>1</td>\n",
       "    </tr>\n",
       "  </tbody>\n",
       "</table>\n",
       "</div>"
      ],
      "text/plain": [
       "                                                 band_1  \\\n",
       "0     [-27.878361, -27.15416, -28.668615, -29.537971...   \n",
       "1     [-12.242375, -14.920305, -14.920363, -12.66633...   \n",
       "10    [-21.397552, -19.753859, -23.426783, -24.65221...   \n",
       "100   [-20.04884, -19.469616, -20.510244, -19.61095,...   \n",
       "1001  [-22.34741, -22.156555, -25.308764, -24.530453...   \n",
       "\n",
       "                                                 band_2        id inc_angle  \\\n",
       "0     [-27.154118, -29.537888, -31.0306, -32.190483,...  dfd5f913   43.9239   \n",
       "1     [-31.506321, -27.984554, -26.645678, -23.76760...  e25388fd   38.1562   \n",
       "10    [-26.72291, -27.418192, -27.787899, -25.774536...  3aac67cd    44.624   \n",
       "100   [-29.742329, -26.374287, -25.490265, -25.49031...  66348d03   41.1342   \n",
       "1001  [-24.782082, -24.047678, -24.782185, -27.45301...  3062fca8   39.9627   \n",
       "\n",
       "      is_iceberg  \n",
       "0              0  \n",
       "1              0  \n",
       "10             1  \n",
       "100            0  \n",
       "1001           1  "
      ]
     },
     "execution_count": 16,
     "metadata": {},
     "output_type": "execute_result"
    }
   ],
   "source": [
    "train_data[:5]"
   ]
  },
  {
   "cell_type": "code",
   "execution_count": 20,
   "metadata": {},
   "outputs": [
    {
     "data": {
      "text/html": [
       "<div>\n",
       "<style>\n",
       "    .dataframe thead tr:only-child th {\n",
       "        text-align: right;\n",
       "    }\n",
       "\n",
       "    .dataframe thead th {\n",
       "        text-align: left;\n",
       "    }\n",
       "\n",
       "    .dataframe tbody tr th {\n",
       "        vertical-align: top;\n",
       "    }\n",
       "</style>\n",
       "<table border=\"1\" class=\"dataframe\">\n",
       "  <thead>\n",
       "    <tr style=\"text-align: right;\">\n",
       "      <th></th>\n",
       "      <th>band_1</th>\n",
       "      <th>band_2</th>\n",
       "      <th>id</th>\n",
       "      <th>inc_angle</th>\n",
       "      <th>is_iceberg</th>\n",
       "    </tr>\n",
       "  </thead>\n",
       "  <tbody>\n",
       "    <tr>\n",
       "      <th>0</th>\n",
       "      <td>[-27.878361, -27.15416, -28.668615, -29.537971...</td>\n",
       "      <td>[-27.154118, -29.537888, -31.0306, -32.190483,...</td>\n",
       "      <td>dfd5f913</td>\n",
       "      <td>43.9239</td>\n",
       "      <td>0</td>\n",
       "    </tr>\n",
       "    <tr>\n",
       "      <th>1</th>\n",
       "      <td>[-12.242375, -14.920305, -14.920363, -12.66633...</td>\n",
       "      <td>[-31.506321, -27.984554, -26.645678, -23.76760...</td>\n",
       "      <td>e25388fd</td>\n",
       "      <td>38.1562</td>\n",
       "      <td>0</td>\n",
       "    </tr>\n",
       "    <tr>\n",
       "      <th>3</th>\n",
       "      <td>[-22.454607, -23.082819, -23.998013, -23.99805...</td>\n",
       "      <td>[-27.889421, -27.519794, -27.165262, -29.10350...</td>\n",
       "      <td>4cfc3a18</td>\n",
       "      <td>43.8306</td>\n",
       "      <td>0</td>\n",
       "    </tr>\n",
       "    <tr>\n",
       "      <th>4</th>\n",
       "      <td>[-26.006956, -23.164886, -23.164886, -26.89116...</td>\n",
       "      <td>[-27.206915, -30.259186, -30.259186, -23.16495...</td>\n",
       "      <td>271f93f4</td>\n",
       "      <td>35.6256</td>\n",
       "      <td>0</td>\n",
       "    </tr>\n",
       "    <tr>\n",
       "      <th>5</th>\n",
       "      <td>[-20.769371, -20.769434, -25.906025, -25.90602...</td>\n",
       "      <td>[-29.288746, -29.712593, -28.884804, -28.88480...</td>\n",
       "      <td>b51d18b5</td>\n",
       "      <td>36.9034</td>\n",
       "      <td>1</td>\n",
       "    </tr>\n",
       "  </tbody>\n",
       "</table>\n",
       "</div>"
      ],
      "text/plain": [
       "                                              band_1  \\\n",
       "0  [-27.878361, -27.15416, -28.668615, -29.537971...   \n",
       "1  [-12.242375, -14.920305, -14.920363, -12.66633...   \n",
       "3  [-22.454607, -23.082819, -23.998013, -23.99805...   \n",
       "4  [-26.006956, -23.164886, -23.164886, -26.89116...   \n",
       "5  [-20.769371, -20.769434, -25.906025, -25.90602...   \n",
       "\n",
       "                                              band_2        id  inc_angle  \\\n",
       "0  [-27.154118, -29.537888, -31.0306, -32.190483,...  dfd5f913    43.9239   \n",
       "1  [-31.506321, -27.984554, -26.645678, -23.76760...  e25388fd    38.1562   \n",
       "3  [-27.889421, -27.519794, -27.165262, -29.10350...  4cfc3a18    43.8306   \n",
       "4  [-27.206915, -30.259186, -30.259186, -23.16495...  271f93f4    35.6256   \n",
       "5  [-29.288746, -29.712593, -28.884804, -28.88480...  b51d18b5    36.9034   \n",
       "\n",
       "   is_iceberg  \n",
       "0           0  \n",
       "1           0  \n",
       "3           0  \n",
       "4           0  \n",
       "5           1  "
      ]
     },
     "execution_count": 20,
     "metadata": {},
     "output_type": "execute_result"
    }
   ],
   "source": [
    "new_train_batch[:5]"
   ]
  },
  {
   "cell_type": "code",
   "execution_count": 22,
   "metadata": {
    "collapsed": true
   },
   "outputs": [],
   "source": [
    "train_band_1 = np.array([np.array(band).astype('float32').reshape(img_width,img_height) for band in new_train_batch.band_1])\n",
    "train_band_2 = np.array([np.array(band).astype('float32').reshape(img_width,img_height) for band in new_train_batch.band_2])"
   ]
  },
  {
   "cell_type": "code",
   "execution_count": 25,
   "metadata": {},
   "outputs": [],
   "source": [
    "validate_band_1 = np.array([np.array(band).astype('float32').reshape(img_width,img_height) for band in validate_batch.band_1])\n",
    "validate_band_2 = np.array([np.array(band).astype('float32').reshape(img_width,img_height) for band in validate_batch.band_2])\n",
    "\n",
    "test_band_1 = np.array([np.array(band).astype('float32').reshape(img_width,img_height) for band in test_batch.band_1])\n",
    "test_band_2 = np.array([np.array(band).astype('float32').reshape(img_width,img_height) for band in test_batch.band_2])\n",
    "\n",
    "train_band_3 = "
   ]
  },
  {
   "cell_type": "code",
   "execution_count": 26,
   "metadata": {
    "collapsed": true
   },
   "outputs": [],
   "source": [
    "X_train = np.concatenate([train_band_1[:,:,:,np.newaxis],\n",
    "                         train_band_2[:,:,:,np.newaxis]],axis=-1)\n",
    "X_validate = np.concatenate([validate_band_1[:,:,:,np.newaxis],\n",
    "                            validate_band_2[:,:,:,np.newaxis]], axis=-1)\n",
    "X_test = np.concatenate([test_band_1[:,:,:,np.newaxis],\n",
    "                        test_band_2[:,:,:,np.newaxis]], axis=-1)"
   ]
  },
  {
   "cell_type": "code",
   "execution_count": 27,
   "metadata": {
    "collapsed": true
   },
   "outputs": [],
   "source": [
    "y_train = np.array([np.array(iceberg).astype('uint8') for iceberg in new_train_batch.is_iceberg])"
   ]
  },
  {
   "cell_type": "code",
   "execution_count": 28,
   "metadata": {},
   "outputs": [
    {
     "data": {
      "text/plain": [
       "array([0, 0, 0, 0, 1], dtype=uint8)"
      ]
     },
     "execution_count": 28,
     "metadata": {},
     "output_type": "execute_result"
    }
   ],
   "source": [
    "y_train[:5]"
   ]
  },
  {
   "cell_type": "code",
   "execution_count": 29,
   "metadata": {
    "collapsed": true
   },
   "outputs": [],
   "source": [
    "y_validate = np.array([np.array(iceberg).astype('uint8') for iceberg in validate_batch.is_iceberg])"
   ]
  },
  {
   "cell_type": "code",
   "execution_count": 31,
   "metadata": {},
   "outputs": [
    {
     "data": {
      "text/plain": [
       "(1123, 75, 75, 2)"
      ]
     },
     "execution_count": 31,
     "metadata": {},
     "output_type": "execute_result"
    }
   ],
   "source": [
    "X_train.shape"
   ]
  },
  {
   "cell_type": "code",
   "execution_count": 32,
   "metadata": {},
   "outputs": [
    {
     "data": {
      "text/plain": [
       "(481, 75, 75, 2)"
      ]
     },
     "execution_count": 32,
     "metadata": {},
     "output_type": "execute_result"
    }
   ],
   "source": [
    "X_validate.shape"
   ]
  },
  {
   "cell_type": "code",
   "execution_count": 34,
   "metadata": {
    "collapsed": true
   },
   "outputs": [],
   "source": [
    "def onehot(x):\n",
    "    return to_categorical(x)\n"
   ]
  },
  {
   "cell_type": "code",
   "execution_count": 35,
   "metadata": {
    "collapsed": true
   },
   "outputs": [],
   "source": [
    "y_train = onehot(y_train)"
   ]
  },
  {
   "cell_type": "code",
   "execution_count": 36,
   "metadata": {},
   "outputs": [
    {
     "data": {
      "text/plain": [
       "array([[ 1.,  0.],\n",
       "       [ 1.,  0.],\n",
       "       [ 1.,  0.],\n",
       "       [ 1.,  0.],\n",
       "       [ 0.,  1.]])"
      ]
     },
     "execution_count": 36,
     "metadata": {},
     "output_type": "execute_result"
    }
   ],
   "source": [
    "y_train[:5]"
   ]
  },
  {
   "cell_type": "code",
   "execution_count": 37,
   "metadata": {
    "collapsed": true
   },
   "outputs": [],
   "source": [
    "y_validate = onehot(y_validate)"
   ]
  },
  {
   "cell_type": "code",
   "execution_count": 40,
   "metadata": {},
   "outputs": [
    {
     "data": {
      "text/plain": [
       "(1123, 2, 75, 75)"
      ]
     },
     "execution_count": 40,
     "metadata": {},
     "output_type": "execute_result"
    }
   ],
   "source": [
    "np.moveaxis(X_train,3,1).shape"
   ]
  },
  {
   "cell_type": "code",
   "execution_count": 41,
   "metadata": {
    "collapsed": true
   },
   "outputs": [],
   "source": [
    "X_train = np.moveaxis(X_train,3,1)\n",
    "X_validate = np.moveaxis(X_validate,3,1)\n",
    "X_test = np.moveaxis(X_test,3,1)"
   ]
  },
  {
   "cell_type": "code",
   "execution_count": 42,
   "metadata": {},
   "outputs": [
    {
     "data": {
      "text/plain": [
       "(1123, 2, 75, 75)"
      ]
     },
     "execution_count": 42,
     "metadata": {},
     "output_type": "execute_result"
    }
   ],
   "source": [
    "X_train.shape"
   ]
  },
  {
   "cell_type": "code",
   "execution_count": 43,
   "metadata": {
    "collapsed": true
   },
   "outputs": [],
   "source": [
    "mean_trainx = X_train.mean().astype(np.float32)\n",
    "std_trainx = X_train.std().astype(np.float32)"
   ]
  },
  {
   "cell_type": "code",
   "execution_count": 44,
   "metadata": {
    "collapsed": true
   },
   "outputs": [],
   "source": [
    "def norm_input(x): return ((x-mean_trainx)/std_trainx)"
   ]
  },
  {
   "cell_type": "code",
   "execution_count": 66,
   "metadata": {
    "collapsed": true
   },
   "outputs": [],
   "source": [
    "def get_linear_model():\n",
    "    model = Sequential([\n",
    "        Lambda(norm_input, input_shape = (2,img_height,img_width)),\n",
    "        Flatten(),\n",
    "        Dense(2, activation='softmax')\n",
    "    ])\n",
    "    model.compile(optimizer = 'Adam', loss='categorical_crossentropy', metrics=['accuracy'])\n",
    "    return model"
   ]
  },
  {
   "cell_type": "code",
   "execution_count": 67,
   "metadata": {},
   "outputs": [
    {
     "name": "stderr",
     "output_type": "stream",
     "text": [
      "/Users/ilanrotenberg/anaconda2/lib/python2.7/site-packages/keras/layers/core.py:629: UserWarning: `output_shape` argument not specified for layer lambda_5 and cannot be automatically inferred with the Theano backend. Defaulting to output shape `(None, 2, 75, 75)` (same as input shape). If the expected output shape is different, specify it via the `output_shape` argument.\n",
      "  .format(self.name, input_shape))\n"
     ]
    }
   ],
   "source": [
    "lm = get_linear_model()"
   ]
  },
  {
   "cell_type": "code",
   "execution_count": 68,
   "metadata": {},
   "outputs": [],
   "source": [
    "gen = ImageDataGenerator()\n",
    "batches = gen.flow(X_train, y_train, batch_size=32)\n",
    "test_batches = gen.flow(X_validate, y_validate, batch_size=32)"
   ]
  },
  {
   "cell_type": "code",
   "execution_count": 69,
   "metadata": {},
   "outputs": [
    {
     "name": "stdout",
     "output_type": "stream",
     "text": [
      "Epoch 1/1\n",
      "1123/1123 [==============================] - 5s - loss: 0.2031 - acc: 0.9405 - val_loss: 0.6113 - val_acc: 0.7381\n"
     ]
    },
    {
     "data": {
      "text/plain": [
       "<keras.callbacks.History at 0x1c2e6ab6d0>"
      ]
     },
     "execution_count": 69,
     "metadata": {},
     "output_type": "execute_result"
    }
   ],
   "source": [
    "lm.fit_generator(batches, batches.n, epochs = 1, \n",
    "                validation_data = test_batches, validation_steps = test_batches.n)"
   ]
  },
  {
   "cell_type": "code",
   "execution_count": 65,
   "metadata": {},
   "outputs": [
    {
     "data": {
      "text/plain": [
       "array([[ 1.,  0.],\n",
       "       [ 1.,  0.],\n",
       "       [ 0.,  1.],\n",
       "       [ 1.,  0.],\n",
       "       [ 1.,  0.]])"
      ]
     },
     "execution_count": 65,
     "metadata": {},
     "output_type": "execute_result"
    }
   ],
   "source": [
    "y_validate[:5]"
   ]
  },
  {
   "cell_type": "code",
   "execution_count": 70,
   "metadata": {
    "collapsed": true
   },
   "outputs": [],
   "source": [
    "lm.optimizer.lr=0.1"
   ]
  },
  {
   "cell_type": "code",
   "execution_count": 71,
   "metadata": {},
   "outputs": [
    {
     "name": "stdout",
     "output_type": "stream",
     "text": [
      "Epoch 1/1\n",
      "1123/1123 [==============================] - 5s - loss: 0.0097 - acc: 1.0000 - val_loss: 0.6896 - val_acc: 0.7325\n"
     ]
    },
    {
     "data": {
      "text/plain": [
       "<keras.callbacks.History at 0x1c2e6bb810>"
      ]
     },
     "execution_count": 71,
     "metadata": {},
     "output_type": "execute_result"
    }
   ],
   "source": [
    "lm.fit_generator(batches, batches.n, epochs = 1, \n",
    "                validation_data = test_batches, validation_steps = test_batches.n)"
   ]
  },
  {
   "cell_type": "code",
   "execution_count": 72,
   "metadata": {
    "collapsed": true
   },
   "outputs": [],
   "source": [
    "lm.optimizer.lr=0.01"
   ]
  },
  {
   "cell_type": "code",
   "execution_count": 73,
   "metadata": {},
   "outputs": [
    {
     "name": "stdout",
     "output_type": "stream",
     "text": [
      "Epoch 1/4\n",
      "1123/1123 [==============================] - 5s - loss: 0.0036 - acc: 1.0000 - val_loss: 0.7550 - val_acc: 0.7319\n",
      "Epoch 2/4\n",
      "1123/1123 [==============================] - 5s - loss: 0.0017 - acc: 1.0000 - val_loss: 0.8067 - val_acc: 0.7236\n",
      "Epoch 3/4\n",
      "1123/1123 [==============================] - 5s - loss: 8.7078e-04 - acc: 1.0000 - val_loss: 0.8597 - val_acc: 0.7276\n",
      "Epoch 4/4\n",
      "1123/1123 [==============================] - 5s - loss: 4.6663e-04 - acc: 1.0000 - val_loss: 0.9088 - val_acc: 0.7280\n"
     ]
    },
    {
     "data": {
      "text/plain": [
       "<keras.callbacks.History at 0x1c2e6bb050>"
      ]
     },
     "execution_count": 73,
     "metadata": {},
     "output_type": "execute_result"
    }
   ],
   "source": [
    "lm.fit_generator(batches, batches.n, epochs = 4, \n",
    "                validation_data = test_batches, validation_steps = test_batches.n)"
   ]
  },
  {
   "cell_type": "code",
   "execution_count": 75,
   "metadata": {},
   "outputs": [],
   "source": [
    "def get_fc_model():\n",
    "    model = Sequential([\n",
    "        Lambda(norm_input, input_shape = (2,img_height,img_width)),\n",
    "        Flatten(),\n",
    "        Dense(512, activation ='softmax'),\n",
    "        Dense(2, activation='softmax')\n",
    "    ])\n",
    "    model.compile(optimizer = 'Adam', loss='categorical_crossentropy', metrics=['accuracy'])\n",
    "    return model"
   ]
  },
  {
   "cell_type": "code",
   "execution_count": 76,
   "metadata": {},
   "outputs": [
    {
     "name": "stderr",
     "output_type": "stream",
     "text": [
      "/Users/ilanrotenberg/anaconda2/lib/python2.7/site-packages/keras/layers/core.py:629: UserWarning: `output_shape` argument not specified for layer lambda_6 and cannot be automatically inferred with the Theano backend. Defaulting to output shape `(None, 2, 75, 75)` (same as input shape). If the expected output shape is different, specify it via the `output_shape` argument.\n",
      "  .format(self.name, input_shape))\n"
     ]
    }
   ],
   "source": [
    "fc = get_fc_model()"
   ]
  },
  {
   "cell_type": "code",
   "execution_count": 77,
   "metadata": {},
   "outputs": [
    {
     "name": "stdout",
     "output_type": "stream",
     "text": [
      "Epoch 1/1\n",
      "1123/1123 [==============================] - 310s - loss: 0.6647 - acc: 0.6153 - val_loss: 0.6577 - val_acc: 0.5987\n"
     ]
    },
    {
     "data": {
      "text/plain": [
       "<keras.callbacks.History at 0x1c181ba5d0>"
      ]
     },
     "execution_count": 77,
     "metadata": {},
     "output_type": "execute_result"
    }
   ],
   "source": [
    "fc.fit_generator(batches, batches.n, epochs = 1, \n",
    "                validation_data = test_batches, validation_steps = test_batches.n)"
   ]
  },
  {
   "cell_type": "code",
   "execution_count": 78,
   "metadata": {
    "collapsed": true
   },
   "outputs": [],
   "source": [
    "fc.optimizer.lr = 0.1"
   ]
  },
  {
   "cell_type": "code",
   "execution_count": 79,
   "metadata": {},
   "outputs": [
    {
     "name": "stdout",
     "output_type": "stream",
     "text": [
      "Epoch 1/1\n",
      "1123/1123 [==============================] - 219s - loss: 0.5991 - acc: 0.6720 - val_loss: 0.5729 - val_acc: 0.7028\n"
     ]
    },
    {
     "data": {
      "text/plain": [
       "<keras.callbacks.History at 0x1c181d3ed0>"
      ]
     },
     "execution_count": 79,
     "metadata": {},
     "output_type": "execute_result"
    }
   ],
   "source": [
    "fc.fit_generator(batches, batches.n, epochs = 1, \n",
    "                validation_data = test_batches, validation_steps = test_batches.n)"
   ]
  },
  {
   "cell_type": "code",
   "execution_count": 80,
   "metadata": {
    "collapsed": true
   },
   "outputs": [],
   "source": [
    "def get_cnn_model():\n",
    "    model = Sequential([\n",
    "        Lambda(norm_input, input_shape = (2,img_height,img_width)),\n",
    "        Convolution2D(32,3,3,activation='relu'),\n",
    "        BatchNormalization(axis=1),\n",
    "        Convolution2D(32,3,3,activation='relu'),\n",
    "        MaxPooling(),\n",
    "        Convolution2D(64,3,3,activation='relu'),\n",
    "        BatchNormalization(axis=1),\n",
    "        Convolution2D(64,3,3,activation='relu'),\n",
    "        MaxPooling(),\n",
    "        Convolution2D(128,3,3,activation='relu'),\n",
    "        BatchNormalization(axis=1),\n",
    "        Convolution2D(128,3,3,activation='relu'),\n",
    "        MaxPooling(),\n",
    "        Flatten(),\n",
    "        BatchNormalization(),\n",
    "        Dense(512, activation ='relu'),\n",
    "        BatchNormalization(),\n",
    "        Dense(2, activation='softmax')\n",
    "    ])\n",
    "    model.compile(optimizer = 'Adam', loss='categorical_crossentropy', metrics=['accuracy'])\n",
    "    return model"
   ]
  },
  {
   "cell_type": "code",
   "execution_count": 81,
   "metadata": {
    "collapsed": true
   },
   "outputs": [],
   "source": [
    "cm = get_cnn_model"
   ]
  },
  {
   "cell_type": "code",
   "execution_count": null,
   "metadata": {
    "collapsed": true
   },
   "outputs": [],
   "source": []
  }
 ],
 "metadata": {
  "kernelspec": {
   "display_name": "Python 2",
   "language": "python",
   "name": "python2"
  },
  "language_info": {
   "codemirror_mode": {
    "name": "ipython",
    "version": 2
   },
   "file_extension": ".py",
   "mimetype": "text/x-python",
   "name": "python",
   "nbconvert_exporter": "python",
   "pygments_lexer": "ipython2",
   "version": "2.7.14"
  }
 },
 "nbformat": 4,
 "nbformat_minor": 2
}
